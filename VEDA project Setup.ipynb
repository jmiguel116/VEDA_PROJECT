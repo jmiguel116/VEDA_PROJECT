{
 "cells": [
  {
   "cell_type": "markdown",
   "id": "277bfdf8-c495-4494-a4e6-8d0f925e14c3",
   "metadata": {},
   "source": [
    "# VEDA Project Setup\n",
    "\n",
    "This notebook contains the setup instructions for the VEDA project, including directory structure, configurations, and initial code setup.\n",
    "\n"
   ]
  },
  {
   "cell_type": "code",
   "execution_count": null,
   "id": "dd1f0001-75c2-4f4a-b430-9a276fbdf018",
   "metadata": {},
   "outputs": [],
   "source": [
    "# Create necessary directories\n",
    "!mkdir -p app/auth app/main app/templates app/static\n",
    "\n",
    "# Create necessary files\n",
    "!touch app/__init__.py app/auth/__init__.py app/main/__init__.py app/models.py\n",
    "!touch config.py run.py\n",
    "\n",
    "# Output directory structure\n",
    "!tree -L 2\n"
   ]
  }
 ],
 "metadata": {
  "kernelspec": {
   "display_name": "Python 3 (ipykernel)",
   "language": "python",
   "name": "python3"
  },
  "language_info": {
   "codemirror_mode": {
    "name": "ipython",
    "version": 3
   },
   "file_extension": ".py",
   "mimetype": "text/x-python",
   "name": "python",
   "nbconvert_exporter": "python",
   "pygments_lexer": "ipython3",
   "version": "3.12.3"
  }
 },
 "nbformat": 4,
 "nbformat_minor": 5
}
