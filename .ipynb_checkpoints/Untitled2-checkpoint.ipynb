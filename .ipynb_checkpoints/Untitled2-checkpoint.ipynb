{
 "cells": [
  {
   "cell_type": "markdown",
   "id": "ffd91489-032b-4459-abbe-07a7d6da0fd5",
   "metadata": {},
   "source": [
    "# ### Initialize Logger and Run Path Loss Calculation\n",
    "# This section initializes the logger, creates a `PathLoss` object, and calculates the path loss.\n"
   ]
  },
  {
   "cell_type": "code",
   "execution_count": null,
   "id": "c97d61ff-6357-4904-94bc-ae7b2a5a116d",
   "metadata": {},
   "outputs": [],
   "source": [
    "if __name__ == \"__main__\":\n",
    "    init_logger()\n",
    "    path_loss = PathLoss(frequency=2400, distance=1000, tx_height=30, rx_height=30)\n",
    "    result, errors = path_loss.calculate()\n",
    "    logging.debug(f\"Calculated path loss: {result} dB\")\n",
    "    if errors:\n",
    "        logging.error(f\"Errors encountered: {errors}\")\n"
   ]
  },
  {
   "cell_type": "markdown",
   "id": "e16209d5-4080-4546-868d-67cbeb39523c",
   "metadata": {},
   "source": [
    "# ## Path Loss Calculation Script for VEDA\n",
    "# This script calculates the path loss using the Free Space Path Loss (FSPL) model.\n",
    "# It utilizes advanced parallel processing techniques and efficient logging.\n",
    "\n",
    "# ### Import Necessary Libraries\n"
   ]
  },
  {
   "cell_type": "code",
   "execution_count": null,
   "id": "5e5009c9-e792-4063-a3f9-b1d8e135b02e",
   "metadata": {},
   "outputs": [],
   "source": [
    "import numpy as np\n",
    "import math\n",
    "import os\n",
    "import sys\n",
    "import logging\n",
    "from typing import Optional, List, Tuple\n",
    "from concurrent.futures import ProcessPoolExecutor, as_completed\n",
    "from part1 import FSPL\n",
    "\n",
    "# Validation functions\n",
    "def is_positive_float(value: float):\n",
    "    if not isinstance(value, (float, int)) or value <= 0:\n",
    "        raise ValueError(f\"Value must be a positive float. Got {value}\")\n",
    "\n",
    "def is_positive_int(value: int):\n",
    "    if not isinstance(value, int) or value <= 0:\n",
    "        raise ValueError(f\"Value must be a positive integer. Got {value}\")\n",
    "\n",
    "# Initialize logger\n",
    "def init_logger():\n",
    "    log_folder = \"logs\"\n",
    "    Path(log_folder).mkdir(parents=True, exist_ok=True)\n",
    "    logging.basicConfig(\n",
    "        filename=os.path.join(log_folder, 'pathloss.log'), \n",
    "        level=logging.DEBUG,\n",
    "        format='%(asctime)s %(levelname)s:%(message)s'\n",
    "    )\n",
    "    logging.debug(\"Logger initialized\")\n"
   ]
  },
  {
   "cell_type": "markdown",
   "id": "038d68c0-0919-4740-8995-33c7b3e583b3",
   "metadata": {},
   "source": [
    "# ### Path Loss Calculation Class\n",
    "# This class handles the initialization and calculation of path loss.\n"
   ]
  },
  {
   "cell_type": "code",
   "execution_count": null,
   "id": "e3dfa645-e118-4cb2-b3e5-2fd2982a7f2a",
   "metadata": {},
   "outputs": [],
   "source": [
    "class PathLoss:\n",
    "    def __init__(self, frequency: float, distance: float, tx_height: Optional[float] = None, rx_height: Optional[float] = None):\n",
    "        is_positive_float(frequency)\n",
    "        is_positive_float(distance)\n",
    "        self.frequency = frequency\n",
    "        self.distance = distance\n",
    "        self.tx_height = tx_height if tx_height is not None else 0.0\n",
    "        self.rx_height = rx_height if rx_height is not None else 0.0\n",
    "       \n",
    "    def calculate(self, num_workers: Optional[int] = None) -> Tuple[float, List[Exception]]:\n",
    "        \"\"\"Calculate the path loss based on the current parameters.\n",
    "       \n",
    "        Parameters:\n",
    "            num_workers (Optional[int], optional): The number of worker processes to use for parallel processing. If None, defaults to the number of CPU cores.\n",
    "       \n",
    "        Returns:\n",
    "            float: The calculated path loss in dB.\n",
    "            List[Exception]: A list of exceptions raised during parallel processing, if any.\n",
    "        \"\"\"\n",
    "        if num_workers is None:\n",
    "            num_workers = os.cpu_count()  # Use all available CPU cores by default.\n",
    "       \n",
    "        # Create a process pool with a dynamic number of worker processes based on the input argument.\n",
    "        path_loss = 0.0\n",
    "        error_list = []\n",
    "\n",
    "        with ProcessPoolExecutor(max_workers=num_workers) as executor:\n",
    "            futures = [executor.submit(self._calculate, i) for i in range(num_workers)]\n",
    "            for future in as_completed(futures):\n",
    "                try:\n",
    "                    result = future.result()\n",
    "                    path_loss += result\n",
    "                except Exception as e:\n",
    "                    logging.error(f\"Error calculating path loss: {e}\")\n",
    "                    error_list.append(e)\n",
    "\n",
    "        if len(futures) > 0:\n",
    "            path_loss /= len(futures)  # Average the results from all worker processes.\n",
    "\n",
    "        return path_loss, error_list\n",
    "   \n",
    "    def _calculate(self, i: int) -> float:\n",
    "        \"\"\"Calculate the FSPL for a given segment of the distance\"\"\"\n",
    "        is_positive_int(i)\n",
    "        distance_segment = self.distance / os.cpu_count()  # Divide the total distance by the number of worker processes for parallelism.\n",
    "       \n",
    "        try:\n",
    "            # Calculate the path loss for this portion of the distance in a separate process.\n",
    "            fsl = FSPL(frequency=self.frequency, distance_ft=distance_segment, tx_gain=self.tx_height, rx_gain=self.rx_height)\n",
    "            return fsl.calculate_fspld(self.frequency, distance_segment, self.tx_height, self.rx_height)[\"FSPL_ft\"]\n",
    "        except Exception as e:\n",
    "            # If any exceptions are raised during parallel processing, re-raise them here so they can be caught by the `calculate` method.\n",
    "            raise e\n"
   ]
  }
 ],
 "metadata": {
  "kernelspec": {
   "display_name": "Python 3 (ipykernel)",
   "language": "python",
   "name": "python3"
  },
  "language_info": {
   "codemirror_mode": {
    "name": "ipython",
    "version": 3
   },
   "file_extension": ".py",
   "mimetype": "text/x-python",
   "name": "python",
   "nbconvert_exporter": "python",
   "pygments_lexer": "ipython3",
   "version": "3.12.3"
  }
 },
 "nbformat": 4,
 "nbformat_minor": 5
}
